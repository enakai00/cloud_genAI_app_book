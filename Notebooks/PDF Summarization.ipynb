{
 "cells": [
  {
   "cell_type": "markdown",
   "id": "656bd8ee-6b9c-43e9-8fe9-a7c0908946a1",
   "metadata": {},
   "source": [
    "# LangChain と PaLM API で PDF ドキュメントの要約を行う例"
   ]
  },
  {
   "cell_type": "markdown",
   "id": "98173ce1-e71d-4ff7-ab85-36c021e41507",
   "metadata": {},
   "source": [
    "LangChain のパッケージ、および、PDF の扱いに必要なパッケージをインストールします。"
   ]
  },
  {
   "cell_type": "code",
   "execution_count": null,
   "id": "0da8d06b-585b-41bf-a7e3-b06c2b9ad2b8",
   "metadata": {},
   "outputs": [],
   "source": [
    "pip install langchain==0.0.294 pypdf==3.16.1 cryptography==41.0.4"
   ]
  },
  {
   "cell_type": "markdown",
   "id": "4f535703-182c-41ae-b444-ab7d616cd1ec",
   "metadata": {},
   "source": [
    "NISC が一般公開している「[インターネットの安全・安心ハンドブック](https://security-portal.nisc.go.jp/guidance/handbook.html)」のプロローグ部分をダウンロードします。\n",
    "\n",
    "\n",
    "\n"
   ]
  },
  {
   "cell_type": "code",
   "execution_count": 1,
   "id": "20658657-62b0-499c-ba1c-8035e2641a53",
   "metadata": {},
   "outputs": [],
   "source": [
    "!wget -q -O handbook.pdf \\\n",
    "  https://security-portal.nisc.go.jp/guidance/pdf/handbook/handbook-prologue.pdf"
   ]
  },
  {
   "cell_type": "markdown",
   "id": "4acc0f20-d11b-4ed7-94a5-991399112e72",
   "metadata": {},
   "source": [
    "ダウンロードした PDF を読み込んで、全体を1つのテキストにまとめます。"
   ]
  },
  {
   "cell_type": "code",
   "execution_count": 2,
   "id": "18d6ea81-f7e2-44c6-8bbf-456d2e874b72",
   "metadata": {},
   "outputs": [],
   "source": [
    "from langchain.document_loaders import PyPDFLoader\n",
    "\n",
    "pages = PyPDFLoader('handbook.pdf').load()\n",
    "document = ''\n",
    "for page in pages:\n",
    "    document += page.page_content"
   ]
  },
  {
   "cell_type": "markdown",
   "id": "a6cfbcfd-01ba-433a-aea8-eff339803931",
   "metadata": {},
   "source": [
    "PaLM API を利用するクライアントオブジェクトを取得します。"
   ]
  },
  {
   "cell_type": "code",
   "execution_count": 3,
   "id": "0cce396e-5b5f-4c47-960a-eab4e8d4a631",
   "metadata": {},
   "outputs": [],
   "source": [
    "from langchain.llms import VertexAI\n",
    "llm = VertexAI(model_name='text-bison@001',\n",
    "               temperature=0.1, max_output_tokens=1024)"
   ]
  },
  {
   "cell_type": "markdown",
   "id": "56742592-eda6-4525-8d2b-eb19ea8aacca",
   "metadata": {},
   "source": [
    "RecursiveCharacterTextSplitter, load_qa_chain, AnalyzeDocumentChain モジュールの使用例です。\n",
    "\n",
    "`input_document` に与えたテキストに基づいて、`question` の質問に回答します。"
   ]
  },
  {
   "cell_type": "code",
   "execution_count": 4,
   "id": "d04ef7b6-7556-458f-9f42-115d7b00dea3",
   "metadata": {},
   "outputs": [
    {
     "name": "stderr",
     "output_type": "stream",
     "text": [
      "None of PyTorch, TensorFlow >= 2.0, or Flax have been found. Models won't be available and only tokenizers, configuration and file/data utilities can be used.\n",
      "Token indices sequence length is longer than the specified maximum sequence length for this model (1468 > 1024). Running this sequence through the model will result in indexing errors\n"
     ]
    },
    {
     "data": {
      "text/plain": [
       "'梅雨の時期です。'"
      ]
     },
     "execution_count": 4,
     "metadata": {},
     "output_type": "execute_result"
    }
   ],
   "source": [
    "from langchain.text_splitter import RecursiveCharacterTextSplitter\n",
    "from langchain.chains.question_answering import load_qa_chain\n",
    "from langchain.chains import AnalyzeDocumentChain\n",
    "\n",
    "text_splitter = RecursiveCharacterTextSplitter(\n",
    "    chunk_size=6000, chunk_overlap=200)\n",
    "qa_chain = load_qa_chain(llm, chain_type='map_reduce')\n",
    "qa_document_chain = AnalyzeDocumentChain(\n",
    "    combine_docs_chain=qa_chain, text_splitter=text_splitter)\n",
    "\n",
    "qa_document_chain.run(\n",
    "    input_document='今は６月で梅雨の時期です。', question='最近の天候は？')"
   ]
  },
  {
   "cell_type": "markdown",
   "id": "a957ae75-420b-4d60-bf79-1eaf8a5b452e",
   "metadata": {},
   "source": [
    "`input_document` に与えたテキストの内容をまとめるように指示して結果を得る関数を用意します。"
   ]
  },
  {
   "cell_type": "code",
   "execution_count": 5,
   "id": "de173cf8-1420-41dc-89c3-10f5847df26f",
   "metadata": {},
   "outputs": [],
   "source": [
    "def get_description(document):\n",
    "    text_splitter = RecursiveCharacterTextSplitter(\n",
    "        chunk_size=4000, chunk_overlap=200)\n",
    "    qa_chain = load_qa_chain(llm, chain_type='map_reduce')\n",
    "    qa_document_chain = AnalyzeDocumentChain(\n",
    "        combine_docs_chain=qa_chain, text_splitter=text_splitter)\n",
    "\n",
    "    prompt = '何についての文書ですか？日本語で5文程度にまとめて教えてください。'\n",
    "    description = qa_document_chain.run(\n",
    "        input_document=document, question=prompt)\n",
    "    return description"
   ]
  },
  {
   "cell_type": "markdown",
   "id": "47382292-1205-4132-aede-aebc40e31e7b",
   "metadata": {},
   "source": [
    "先に用意した PDF ファイルを適用します。"
   ]
  },
  {
   "cell_type": "code",
   "execution_count": 11,
   "id": "23c012c2-f290-404d-99c7-b26a9553a2e0",
   "metadata": {},
   "outputs": [
    {
     "name": "stdout",
     "output_type": "stream",
     "text": [
      "この文書は、インターネットの安全・安心に関する基本的なリスクやトラブルについて解説したハンドブックです。サイバー攻撃の種類やその手口、スマホやパソコン、IoT機器を安全に利用するための設定などについて解説しています。\n"
     ]
    }
   ],
   "source": [
    "print(get_description(document))"
   ]
  },
  {
   "cell_type": "markdown",
   "id": "bd00f32a-e33b-4455-a6cf-071710b6d395",
   "metadata": {},
   "source": [
    "任意の質問に答える関数を用意します。"
   ]
  },
  {
   "cell_type": "code",
   "execution_count": 7,
   "id": "0412c4fd-aa20-47cc-a699-128bdc8ac630",
   "metadata": {},
   "outputs": [],
   "source": [
    "def get_answer(document, question):\n",
    "    text_splitter = RecursiveCharacterTextSplitter(\n",
    "        chunk_size=4000, chunk_overlap=200)\n",
    "    qa_chain = load_qa_chain(llm, chain_type='refine')\n",
    "    qa_document_chain = AnalyzeDocumentChain(\n",
    "        combine_docs_chain=qa_chain, text_splitter=text_splitter)\n",
    "\n",
    "    prompt = '{} 日本語で5文程度にまとめて教えてください。'.format(question)\n",
    "    answer = qa_document_chain.run(\n",
    "        input_document=document, question=prompt)\n",
    "    return answer"
   ]
  },
  {
   "cell_type": "markdown",
   "id": "3cfc48c9-333b-4b9c-a166-026cb923a167",
   "metadata": {},
   "source": [
    "先に用意した PDF ファイルに基づいて、質問の回答を取得します。"
   ]
  },
  {
   "cell_type": "code",
   "execution_count": 14,
   "id": "00cfc5cd-509d-4e98-a1e4-5066d2568958",
   "metadata": {},
   "outputs": [
    {
     "name": "stdout",
     "output_type": "stream",
     "text": [
      "サイバーセキュリティ対策のポイントは以下の通りです。\n",
      "1. 最新の攻撃情報に対抗するため、OSやソフトウェアメーカーが提供している修正用アップデートを常に適用しましょう。\n",
      "2. パスワードは長く複雑にして、機器やサービス間で使い回さないことを徹底して安全性を高めましょう。\n",
      "3. サービスへのログインを安全に行うために、認証用アプリや生体認証を使った多要素認証を利用しましょう。\n",
      "4. 偽メールや偽サイトに騙されないように用心しましょう。\n",
      "5. メールの添付ファイルや本文中のリンクに注意しましょう。\n",
      "6. スマホやPCの画面ロックを活用しましょう。\n",
      "7. 大切な情報は失う前にバックアップ（複製）しましょう。\n",
      "8. 外出先では紛失・盗難・覗き見に注意しましょう。\n",
      "9. 困ったときは1人で悩まず、まず相談しましょう。\n"
     ]
    }
   ],
   "source": [
    "question = 'サイバーセキュリティ対策のポイントを箇条書きにまとめてください。'\n",
    "print(get_answer(document, question))"
   ]
  },
  {
   "cell_type": "markdown",
   "id": "43e5acf6-f308-4ccc-a952-974ad807ce31",
   "metadata": {},
   "source": [
    "PDF ファイルを使用せず、PaLM API を直接使用した場合の回答を確認します。"
   ]
  },
  {
   "cell_type": "code",
   "execution_count": 9,
   "id": "62b52451-781a-499e-96af-ca29c210b206",
   "metadata": {},
   "outputs": [],
   "source": [
    "from vertexai.preview.language_models import TextGenerationModel\n",
    "generation_model = TextGenerationModel.from_pretrained('text-bison@001')\n",
    "\n",
    "def get_response(prompt, temperature=0.1):\n",
    "    response = generation_model.predict(\n",
    "         prompt, temperature=temperature, max_output_tokens=1024)\n",
    "    return response.text"
   ]
  },
  {
   "cell_type": "code",
   "execution_count": 10,
   "id": "db0fece1-bb87-4cee-9fba-41c3dd1e32a8",
   "metadata": {},
   "outputs": [
    {
     "name": "stdout",
     "output_type": "stream",
     "text": [
      "サイバーセキュリティ対策のポイントは以下のとおりです。\n",
      "\n",
      "* 強固なパスワードの使用\n",
      "* 二要素認証の設定\n",
      "* ソフトウェアのアップデートの適用\n",
      "* 不審なメールやリンクの開かない\n",
      "* データのバックアップの取得\n",
      "\n",
      "これらの対策を実施することで、サイバー攻撃のリスクを大幅に減らすことができます。\n"
     ]
    }
   ],
   "source": [
    "prompt = '''\\\n",
    "サイバーセキュリティ対策のポイントを箇条書きにまとめてください。\n",
    "日本語で5文程度にまとめて教えてください。\n",
    "'''\n",
    "print(get_response(prompt))"
   ]
  }
 ],
 "metadata": {
  "environment": {
   "kernel": "conda-root-py",
   "name": "workbench-notebooks.m111",
   "type": "gcloud",
   "uri": "gcr.io/deeplearning-platform-release/workbench-notebooks:m111"
  },
  "kernelspec": {
   "display_name": "Python 3",
   "language": "python",
   "name": "conda-root-py"
  },
  "language_info": {
   "codemirror_mode": {
    "name": "ipython",
    "version": 3
   },
   "file_extension": ".py",
   "mimetype": "text/x-python",
   "name": "python",
   "nbconvert_exporter": "python",
   "pygments_lexer": "ipython3",
   "version": "3.10.12"
  }
 },
 "nbformat": 4,
 "nbformat_minor": 5
}
